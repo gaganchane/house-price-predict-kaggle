{
 "cells": [
  {
   "cell_type": "code",
   "execution_count": 1,
   "metadata": {},
   "outputs": [
    {
     "name": "stdout",
     "output_type": "stream",
     "text": [
      "               Total Missing   Percent\n",
      "PoolQC                  1453  0.995205\n",
      "MiscFeature             1406  0.963014\n",
      "Alley                   1369  0.937671\n",
      "Fence                   1179  0.807534\n",
      "FireplaceQu              690  0.472603\n",
      "LotFrontage              259  0.177397\n",
      "GarageCond                81  0.055479\n",
      "GarageType                81  0.055479\n",
      "GarageYrBlt               81  0.055479\n",
      "GarageFinish              81  0.055479\n",
      "GarageQual                81  0.055479\n",
      "BsmtExposure              38  0.026027\n",
      "BsmtFinType2              38  0.026027\n",
      "BsmtFinType1              37  0.025342\n",
      "BsmtCond                  37  0.025342\n",
      "BsmtQual                  37  0.025342\n",
      "MasVnrArea                 8  0.005479\n",
      "MasVnrType                 8  0.005479\n",
      "Electrical                 1  0.000685\n",
      "Utilities                  0  0.000000\n",
      "YearRemodAdd               0  0.000000\n",
      "MSSubClass                 0  0.000000\n",
      "Foundation                 0  0.000000\n",
      "ExterCond                  0  0.000000\n",
      "ExterQual                  0  0.000000\n",
      "Exterior2nd                0  0.000000\n",
      "Exterior1st                0  0.000000\n",
      "RoofMatl                   0  0.000000\n",
      "RoofStyle                  0  0.000000\n",
      "YearBuilt                  0  0.000000\n",
      "...                      ...       ...\n",
      "GarageArea                 0  0.000000\n",
      "PavedDrive                 0  0.000000\n",
      "WoodDeckSF                 0  0.000000\n",
      "OpenPorchSF                0  0.000000\n",
      "3SsnPorch                  0  0.000000\n",
      "BsmtUnfSF                  0  0.000000\n",
      "ScreenPorch                0  0.000000\n",
      "PoolArea                   0  0.000000\n",
      "MiscVal                    0  0.000000\n",
      "MoSold                     0  0.000000\n",
      "YrSold                     0  0.000000\n",
      "SaleType                   0  0.000000\n",
      "Functional                 0  0.000000\n",
      "TotRmsAbvGrd               0  0.000000\n",
      "KitchenQual                0  0.000000\n",
      "KitchenAbvGr               0  0.000000\n",
      "BedroomAbvGr               0  0.000000\n",
      "HalfBath                   0  0.000000\n",
      "FullBath                   0  0.000000\n",
      "BsmtHalfBath               0  0.000000\n",
      "BsmtFullBath               0  0.000000\n",
      "GrLivArea                  0  0.000000\n",
      "LowQualFinSF               0  0.000000\n",
      "2ndFlrSF                   0  0.000000\n",
      "1stFlrSF                   0  0.000000\n",
      "CentralAir                 0  0.000000\n",
      "SaleCondition              0  0.000000\n",
      "Heating                    0  0.000000\n",
      "TotalBsmtSF                0  0.000000\n",
      "Id                         0  0.000000\n",
      "\n",
      "[81 rows x 2 columns]\n"
     ]
    }
   ],
   "source": [
    "import numpy as np\n",
    "import pandas as pd\n",
    "from sklearn.linear_model import LinearRegression\n",
    "\n",
    "# training data\n",
    "train = pd.read_csv('../housing/train.csv')\n",
    "\n",
    "# determine missing values\n",
    "total_missing = train.isnull().sum().sort_values(ascending=False)\n",
    "missing_per = (train.isnull().sum()/len(train)).sort_values(ascending=False)\n",
    "missing_data = pd.concat([total_missing, missing_per], axis=1, keys=['Total Missing', 'Percent'])\n",
    "print(missing_data)\n",
    "\n",
    "# delete columns with more than 10% missing data\n",
    "train = train.drop((missing_data[missing_data['Percent'] > 0.1]).index,1)\n",
    "train = train.drop(\"Id\", axis=1)\n"
   ]
  },
  {
   "cell_type": "code",
   "execution_count": 2,
   "metadata": {
    "collapsed": true
   },
   "outputs": [],
   "source": [
    "# encode some categorical variables from the ones remaining that are actually numerical variables (ordered encoding)\n",
    "\n",
    "train = train.replace({\"BsmtCond\" : {\"No\" : 0, \"Po\" : 1, \"Fa\" : 2, \"TA\" : 3, \"Gd\" : 4, \"Ex\" : 5},\n",
    "                       \"BsmtExposure\" : {\"No\" : 0, \"Mn\" : 1, \"Av\": 2, \"Gd\" : 3},\n",
    "                       \"BsmtFinType1\" : {\"No\" : 0, \"Unf\" : 1, \"LwQ\": 2, \"Rec\" : 3, \"BLQ\" : 4, \"ALQ\" : 5, \"GLQ\" : 6},\n",
    "                       \"BsmtFinType2\" : {\"No\" : 0, \"Unf\" : 1, \"LwQ\": 2, \"Rec\" : 3, \"BLQ\" : 4, \"ALQ\" : 5, \"GLQ\" : 6},\n",
    "                       \"BsmtQual\" : {\"No\" : 0, \"Po\" : 1, \"Fa\" : 2, \"TA\": 3, \"Gd\" : 4, \"Ex\" : 5},\n",
    "                       \"ExterCond\" : {\"Po\" : 1, \"Fa\" : 2, \"TA\": 3, \"Gd\": 4, \"Ex\" : 5},\n",
    "                       \"ExterQual\" : {\"Po\" : 1, \"Fa\" : 2, \"TA\": 3, \"Gd\": 4, \"Ex\" : 5},\n",
    "                       \"Functional\" : {\"Sal\" : 1, \"Sev\" : 2, \"Maj2\" : 3, \"Maj1\" : 4, \"Mod\": 5, \"Min2\" : 6, \n",
    "                                       \"Min1\" : 7, \"Typ\" : 8},\n",
    "                       \"GarageCond\" : {\"No\" : 0, \"Po\" : 1, \"Fa\" : 2, \"TA\" : 3, \"Gd\" : 4, \"Ex\" : 5},\n",
    "                       \"GarageQual\" : {\"No\" : 0, \"Po\" : 1, \"Fa\" : 2, \"TA\" : 3, \"Gd\" : 4, \"Ex\" : 5},\n",
    "                       \"HeatingQC\" : {\"Po\" : 1, \"Fa\" : 2, \"TA\" : 3, \"Gd\" : 4, \"Ex\" : 5},\n",
    "                       \"KitchenQual\" : {\"Po\" : 1, \"Fa\" : 2, \"TA\" : 3, \"Gd\" : 4, \"Ex\" : 5},\n",
    "                       \"LandSlope\" : {\"Sev\" : 1, \"Mod\" : 2, \"Gtl\" : 3},\n",
    "                       \"LotShape\" : {\"IR3\" : 1, \"IR2\" : 2, \"IR1\" : 3, \"Reg\" : 4},\n",
    "                       \"PavedDrive\" : {\"N\" : 0, \"P\" : 1, \"Y\" : 2},\n",
    "                       \"Street\" : {\"Grvl\" : 1, \"Pave\" : 2},\n",
    "                       \"Utilities\" : {\"ELO\" : 1, \"NoSeWa\" : 2, \"NoSewr\" : 3, \"AllPub\" : 4}}\n",
    "                     )"
   ]
  },
  {
   "cell_type": "code",
   "execution_count": 3,
   "metadata": {
    "collapsed": true
   },
   "outputs": [],
   "source": [
    "# change some numerical variables that are actually categorical variables\n",
    "# MSubClass is the structure/dwelling of the house and MoSold is the month that the house was sold\n",
    "\n",
    "train = train.replace({\"MSSubClass\" : {20 : \"SC20\", 30 : \"SC30\", 40 : \"SC40\", 45 : \"SC45\", \n",
    "                                       50 : \"SC50\", 60 : \"SC60\", 70 : \"SC70\", 75 : \"SC75\", \n",
    "                                       80 : \"SC80\", 85 : \"SC85\", 90 : \"SC90\", 120 : \"SC120\", \n",
    "                                       150 : \"SC150\", 160 : \"SC160\", 180 : \"SC180\", 190 : \"SC190\"},\n",
    "                       \"MoSold\" : {1 : \"Jan\", 2 : \"Feb\", 3 : \"Mar\", 4 : \"Apr\", 5 : \"May\", 6 : \"Jun\",\n",
    "                                   7 : \"Jul\", 8 : \"Aug\", 9 : \"Sep\", 10 : \"Oct\", 11 : \"Nov\", 12 : \"Dec\"}}\n",
    "                     )"
   ]
  },
  {
   "cell_type": "code",
   "execution_count": 4,
   "metadata": {},
   "outputs": [
    {
     "name": "stdout",
     "output_type": "stream",
     "text": [
      "Correlation of numerical variables to SalePrice\n",
      "                     Feature      Corr\n",
      "SalePrice          SalePrice  1.000000\n",
      "OverallQual      OverallQual  0.790982\n",
      "GrLivArea          GrLivArea  0.708624\n",
      "ExterQual          ExterQual  0.682639\n",
      "KitchenQual      KitchenQual  0.659600\n",
      "BsmtQual            BsmtQual  0.644019\n",
      "GarageCars        GarageCars  0.640409\n",
      "GarageArea        GarageArea  0.623431\n",
      "TotalBsmtSF      TotalBsmtSF  0.613581\n",
      "1stFlrSF            1stFlrSF  0.605852\n",
      "FullBath            FullBath  0.560664\n",
      "TotRmsAbvGrd    TotRmsAbvGrd  0.533723\n",
      "YearBuilt          YearBuilt  0.522897\n",
      "YearRemodAdd    YearRemodAdd  0.507101\n",
      "GarageYrBlt      GarageYrBlt  0.486362\n",
      "MasVnrArea        MasVnrArea  0.477493\n",
      "Fireplaces        Fireplaces  0.466929\n",
      "HeatingQC          HeatingQC  0.427649\n",
      "BsmtFinSF1        BsmtFinSF1  0.386420\n",
      "BsmtExposure    BsmtExposure  0.352958\n",
      "WoodDeckSF        WoodDeckSF  0.324413\n",
      "2ndFlrSF            2ndFlrSF  0.319334\n",
      "OpenPorchSF      OpenPorchSF  0.315856\n",
      "HalfBath            HalfBath  0.284108\n",
      "BsmtFinType1    BsmtFinType1  0.277436\n",
      "LotArea              LotArea  0.263843\n",
      "PavedDrive        PavedDrive  0.231357\n",
      "BsmtFullBath    BsmtFullBath  0.227122\n",
      "BsmtUnfSF          BsmtUnfSF  0.214479\n",
      "BedroomAbvGr    BedroomAbvGr  0.168213\n",
      "BsmtCond            BsmtCond  0.160658\n",
      "GarageQual        GarageQual  0.156693\n",
      "GarageCond        GarageCond  0.125013\n",
      "ScreenPorch      ScreenPorch  0.111447\n",
      "Functional        Functional  0.107619\n",
      "PoolArea            PoolArea  0.092404\n",
      "3SsnPorch          3SsnPorch  0.044584\n",
      "Street                Street  0.041036\n",
      "ExterCond          ExterCond  0.018899\n",
      "Utilities          Utilities  0.014314\n",
      "BsmtFinSF2        BsmtFinSF2 -0.011378\n",
      "BsmtHalfBath    BsmtHalfBath -0.016844\n",
      "MiscVal              MiscVal -0.021190\n",
      "LowQualFinSF    LowQualFinSF -0.025606\n",
      "YrSold                YrSold -0.028923\n",
      "BsmtFinType2    BsmtFinType2 -0.040139\n",
      "LandSlope          LandSlope -0.051152\n",
      "OverallCond      OverallCond -0.077856\n",
      "EnclosedPorch  EnclosedPorch -0.128578\n",
      "KitchenAbvGr    KitchenAbvGr -0.135907\n",
      "LotShape            LotShape -0.267759\n"
     ]
    }
   ],
   "source": [
    "# determine correlation between numerical features and the response variable SalePrice\n",
    "\n",
    "print(\"Correlation of numerical variables to SalePrice\")\n",
    "corr_table = train.corr()['SalePrice']\n",
    "ftr = corr_table.index\n",
    "cor_dict = {'Feature':ftr, 'Corr':corr_table}\n",
    "corr_df = pd.DataFrame(cor_dict)\n",
    "corr_df = corr_df[['Feature', 'Corr']]\n",
    "corr_df = corr_df.sort_values(by='Corr', ascending = False)\n",
    "print(corr_df)\n"
   ]
  },
  {
   "cell_type": "code",
   "execution_count": 5,
   "metadata": {
    "collapsed": true
   },
   "outputs": [],
   "source": [
    "# drop the numerical features that have a correlation between +/- 5% with SalePrice\n",
    "delete_features = pd.DataFrame(corr_df.loc[(corr_df['Corr'] < 0.05) & (corr_df['Corr'] > -0.05), 'Feature'])\n",
    "train = train.drop(delete_features['Feature'], axis=1)\n",
    "\n",
    "# drop OverallCond-has a -7.8% correlation with SalePrice, which doesn't make sense as it should be positive correlation\n",
    "train = train.drop('OverallCond', axis = 1)\n",
    "\n",
    "# drop LandSlope as correlation is only 5.1% and based on gut feeling, it doesn't seem important\n",
    "train = train.drop('LandSlope', axis = 1)"
   ]
  },
  {
   "cell_type": "code",
   "execution_count": 6,
   "metadata": {
    "collapsed": true
   },
   "outputs": [],
   "source": [
    "cor = train.corr()['SalePrice']\n",
    "cor = pd.DataFrame(cor)\n",
    "cor = cor.sort_values(by = 'SalePrice', ascending = False)\n",
    "#print(cor)\n",
    "#np.shape(cor)"
   ]
  },
  {
   "cell_type": "code",
   "execution_count": 7,
   "metadata": {
    "collapsed": true
   },
   "outputs": [],
   "source": [
    "# one-hot encode the categorical features\n",
    "train = pd.get_dummies(train)"
   ]
  },
  {
   "cell_type": "code",
   "execution_count": 8,
   "metadata": {},
   "outputs": [
    {
     "name": "stdout",
     "output_type": "stream",
     "text": [
      "Correlation of numerical variables to SalePrice\n",
      "                                     Feature      Corr\n",
      "SalePrice                          SalePrice  1.000000\n",
      "OverallQual                      OverallQual  0.790982\n",
      "GrLivArea                          GrLivArea  0.708624\n",
      "ExterQual                          ExterQual  0.682639\n",
      "KitchenQual                      KitchenQual  0.659600\n",
      "BsmtQual                            BsmtQual  0.644019\n",
      "GarageCars                        GarageCars  0.640409\n",
      "GarageArea                        GarageArea  0.623431\n",
      "TotalBsmtSF                      TotalBsmtSF  0.613581\n",
      "1stFlrSF                            1stFlrSF  0.605852\n",
      "FullBath                            FullBath  0.560664\n",
      "TotRmsAbvGrd                    TotRmsAbvGrd  0.533723\n",
      "YearBuilt                          YearBuilt  0.522897\n",
      "YearRemodAdd                    YearRemodAdd  0.507101\n",
      "Foundation_PConc            Foundation_PConc  0.497734\n",
      "GarageYrBlt                      GarageYrBlt  0.486362\n",
      "MasVnrArea                        MasVnrArea  0.477493\n",
      "Fireplaces                        Fireplaces  0.466929\n",
      "HeatingQC                          HeatingQC  0.427649\n",
      "GarageFinish_Fin            GarageFinish_Fin  0.419678\n",
      "Neighborhood_NridgHt    Neighborhood_NridgHt  0.402149\n",
      "BsmtFinSF1                        BsmtFinSF1  0.386420\n",
      "MSSubClass_SC60              MSSubClass_SC60  0.377197\n",
      "SaleType_New                    SaleType_New  0.357509\n",
      "BsmtExposure                    BsmtExposure  0.352958\n",
      "SaleCondition_Partial  SaleCondition_Partial  0.352060\n",
      "GarageType_Attchd          GarageType_Attchd  0.335961\n",
      "MasVnrType_Stone            MasVnrType_Stone  0.330476\n",
      "Neighborhood_NoRidge    Neighborhood_NoRidge  0.330424\n",
      "WoodDeckSF                        WoodDeckSF  0.324413\n",
      "...                                      ...       ...\n",
      "SaleCondition_Abnorml  SaleCondition_Abnorml -0.118069\n",
      "Foundation_Slab              Foundation_Slab -0.119740\n",
      "Electrical_FuseF            Electrical_FuseF -0.126601\n",
      "Neighborhood_Sawyer      Neighborhood_Sawyer -0.128394\n",
      "EnclosedPorch                  EnclosedPorch -0.128578\n",
      "KitchenAbvGr                    KitchenAbvGr -0.135907\n",
      "Neighborhood_BrkSide    Neighborhood_BrkSide -0.143648\n",
      "SaleCondition_Normal    SaleCondition_Normal -0.153990\n",
      "MSSubClass_SC50              MSSubClass_SC50 -0.156692\n",
      "Exterior1st_Wd Sdng      Exterior1st_Wd Sdng -0.158619\n",
      "Exterior2nd_Wd Sdng      Exterior2nd_Wd Sdng -0.161800\n",
      "Exterior2nd_MetalSd      Exterior2nd_MetalSd -0.162389\n",
      "HouseStyle_1.5Fin          HouseStyle_1.5Fin -0.163466\n",
      "Neighborhood_IDOTRR      Neighborhood_IDOTRR -0.164056\n",
      "Exterior1st_MetalSd      Exterior1st_MetalSd -0.167068\n",
      "Neighborhood_Edwards    Neighborhood_Edwards -0.179949\n",
      "Neighborhood_NAmes        Neighborhood_NAmes -0.188513\n",
      "Neighborhood_OldTown    Neighborhood_OldTown -0.192189\n",
      "Electrical_FuseA            Electrical_FuseA -0.193978\n",
      "Foundation_BrkTil          Foundation_BrkTil -0.204117\n",
      "RoofStyle_Gable              RoofStyle_Gable -0.224744\n",
      "MSSubClass_SC30              MSSubClass_SC30 -0.238640\n",
      "SaleType_WD                      SaleType_WD -0.242598\n",
      "CentralAir_N                    CentralAir_N -0.251328\n",
      "LotShape                            LotShape -0.267759\n",
      "MSZoning_RM                      MSZoning_RM -0.288065\n",
      "Foundation_CBlock          Foundation_CBlock -0.343263\n",
      "GarageType_Detchd          GarageType_Detchd -0.354141\n",
      "MasVnrType_None              MasVnrType_None -0.374468\n",
      "GarageFinish_Unf            GarageFinish_Unf -0.410608\n",
      "\n",
      "[227 rows x 2 columns]\n"
     ]
    },
    {
     "data": {
      "text/plain": [
       "(227, 2)"
      ]
     },
     "execution_count": 8,
     "metadata": {},
     "output_type": "execute_result"
    }
   ],
   "source": [
    "#determine correlation of newly encoded categorical features with SalePrice\n",
    "print(\"Correlation of numerical variables to SalePrice\")\n",
    "corr_table2 = train.corr()['SalePrice']\n",
    "ftr2 = corr_table2.index\n",
    "cor_dict2 = {'Feature':ftr2, 'Corr':corr_table2}\n",
    "corr_df2 = pd.DataFrame(cor_dict2)\n",
    "corr_df2 = corr_df2[['Feature', 'Corr']]\n",
    "corr_df2 = corr_df2.sort_values(by='Corr', ascending = False)\n",
    "print(corr_df2)\n",
    "np.shape(corr_df2)"
   ]
  },
  {
   "cell_type": "code",
   "execution_count": 9,
   "metadata": {},
   "outputs": [
    {
     "data": {
      "text/plain": [
       "(1460, 137)"
      ]
     },
     "execution_count": 9,
     "metadata": {},
     "output_type": "execute_result"
    }
   ],
   "source": [
    "# drop the categorical features that have a correlation between +/- 5% with SalePrice\n",
    "delete_features2 = pd.DataFrame(corr_df2.loc[(corr_df2['Corr'] < 0.05) & (corr_df2['Corr'] > -0.05), 'Feature'])\n",
    "train = train.drop(delete_features2['Feature'], axis=1)\n",
    "np.shape(train)"
   ]
  },
  {
   "cell_type": "code",
   "execution_count": 10,
   "metadata": {},
   "outputs": [
    {
     "data": {
      "text/plain": [
       "0.88386906144121502"
      ]
     },
     "execution_count": 10,
     "metadata": {},
     "output_type": "execute_result"
    }
   ],
   "source": [
    "# create dataframe for training x variables\n",
    "train_X = train\n",
    "\n",
    "# fill in the remaining missing values with 0 \n",
    "train_X = train_X.fillna(0)\n",
    "\n",
    "# df for training y variables\n",
    "train_y = train_X.SalePrice\n",
    "train_X = train_X.drop(['SalePrice'], axis=1)\n",
    "\n",
    "# fit multiple linear regression model\n",
    "reg = LinearRegression().fit(train_X, train_y)\n",
    "reg.score(train_X, train_y)"
   ]
  },
  {
   "cell_type": "code",
   "execution_count": 11,
   "metadata": {
    "collapsed": true
   },
   "outputs": [],
   "source": [
    "# test data\n",
    "test = pd.read_csv('../housing/test.csv')\n",
    "\n",
    "# determine missing values in test data\n",
    "total_missing1 = test.isnull().sum().sort_values(ascending=False)\n",
    "missing_per1 = (test.isnull().sum()/len(test)).sort_values(ascending=False)\n",
    "missing_data1 = pd.concat([total_missing1, missing_per1], axis=1, keys=['Total Missing', 'Percent'])\n",
    "#print(missing_data)\n",
    "\n",
    "# delete columns with more than 10% missing data in test dat \n",
    "test = test.drop((missing_data1[missing_data1['Percent'] > 0.1]).index,1)"
   ]
  },
  {
   "cell_type": "code",
   "execution_count": 12,
   "metadata": {
    "collapsed": true
   },
   "outputs": [],
   "source": [
    "# encode some categorical variables from the ones remaining that are actually numerical variables (ordered encoding)\n",
    "\n",
    "test = test.replace({\"BsmtCond\" : {\"No\" : 0, \"Po\" : 1, \"Fa\" : 2, \"TA\" : 3, \"Gd\" : 4, \"Ex\" : 5},\n",
    "                       \"BsmtExposure\" : {\"No\" : 0, \"Mn\" : 1, \"Av\": 2, \"Gd\" : 3},\n",
    "                       \"BsmtFinType1\" : {\"No\" : 0, \"Unf\" : 1, \"LwQ\": 2, \"Rec\" : 3, \"BLQ\" : 4, \"ALQ\" : 5, \"GLQ\" : 6},\n",
    "                       \"BsmtFinType2\" : {\"No\" : 0, \"Unf\" : 1, \"LwQ\": 2, \"Rec\" : 3, \"BLQ\" : 4, \"ALQ\" : 5, \"GLQ\" : 6},\n",
    "                       \"BsmtQual\" : {\"No\" : 0, \"Po\" : 1, \"Fa\" : 2, \"TA\": 3, \"Gd\" : 4, \"Ex\" : 5},\n",
    "                       \"ExterCond\" : {\"Po\" : 1, \"Fa\" : 2, \"TA\": 3, \"Gd\": 4, \"Ex\" : 5},\n",
    "                       \"ExterQual\" : {\"Po\" : 1, \"Fa\" : 2, \"TA\": 3, \"Gd\": 4, \"Ex\" : 5},\n",
    "                       \"Functional\" : {\"Sal\" : 1, \"Sev\" : 2, \"Maj2\" : 3, \"Maj1\" : 4, \"Mod\": 5, \"Min2\" : 6, \n",
    "                                       \"Min1\" : 7, \"Typ\" : 8},\n",
    "                       \"GarageCond\" : {\"No\" : 0, \"Po\" : 1, \"Fa\" : 2, \"TA\" : 3, \"Gd\" : 4, \"Ex\" : 5},\n",
    "                       \"GarageQual\" : {\"No\" : 0, \"Po\" : 1, \"Fa\" : 2, \"TA\" : 3, \"Gd\" : 4, \"Ex\" : 5},\n",
    "                       \"HeatingQC\" : {\"Po\" : 1, \"Fa\" : 2, \"TA\" : 3, \"Gd\" : 4, \"Ex\" : 5},\n",
    "                       \"KitchenQual\" : {\"Po\" : 1, \"Fa\" : 2, \"TA\" : 3, \"Gd\" : 4, \"Ex\" : 5},\n",
    "                       \"LandSlope\" : {\"Sev\" : 1, \"Mod\" : 2, \"Gtl\" : 3},\n",
    "                       \"LotShape\" : {\"IR3\" : 1, \"IR2\" : 2, \"IR1\" : 3, \"Reg\" : 4},\n",
    "                       \"PavedDrive\" : {\"N\" : 0, \"P\" : 1, \"Y\" : 2},\n",
    "                       \"Street\" : {\"Grvl\" : 1, \"Pave\" : 2},\n",
    "                       \"Utilities\" : {\"ELO\" : 1, \"NoSeWa\" : 2, \"NoSewr\" : 3, \"AllPub\" : 4}}\n",
    "                     )"
   ]
  },
  {
   "cell_type": "code",
   "execution_count": 13,
   "metadata": {
    "collapsed": true
   },
   "outputs": [],
   "source": [
    "# change some numerical variables that are actually categorical variables\n",
    "# MSubClass is the structure/dwelling of the house and MoSold is the month that the house was sold\n",
    "\n",
    "test = test.replace({\"MSSubClass\" : {20 : \"SC20\", 30 : \"SC30\", 40 : \"SC40\", 45 : \"SC45\", \n",
    "                                       50 : \"SC50\", 60 : \"SC60\", 70 : \"SC70\", 75 : \"SC75\", \n",
    "                                       80 : \"SC80\", 85 : \"SC85\", 90 : \"SC90\", 120 : \"SC120\", \n",
    "                                       150 : \"SC150\", 160 : \"SC160\", 180 : \"SC180\", 190 : \"SC190\"},\n",
    "                       \"MoSold\" : {1 : \"Jan\", 2 : \"Feb\", 3 : \"Mar\", 4 : \"Apr\", 5 : \"May\", 6 : \"Jun\",\n",
    "                                   7 : \"Jul\", 8 : \"Aug\", 9 : \"Sep\", 10 : \"Oct\", 11 : \"Nov\", 12 : \"Dec\"}}\n",
    "                     )"
   ]
  },
  {
   "cell_type": "code",
   "execution_count": 14,
   "metadata": {},
   "outputs": [
    {
     "data": {
      "text/plain": [
       "(1459, 226)"
      ]
     },
     "execution_count": 14,
     "metadata": {},
     "output_type": "execute_result"
    }
   ],
   "source": [
    "# one-hot encoding for categorical features in test data\n",
    "test = pd.get_dummies(test)\n",
    "np.shape(test)"
   ]
  },
  {
   "cell_type": "code",
   "execution_count": 16,
   "metadata": {
    "collapsed": true
   },
   "outputs": [],
   "source": [
    "# delete features in test data that are not in training data\n",
    "delete_test_features = []\n",
    "\n",
    "test_cols = test.columns\n",
    "train_cols = train.columns\n",
    "\n",
    "for i in range(0,len(test_cols)):\n",
    "    if (test_cols[i] not in train_cols):\n",
    "        delete_test_features.append(test_cols[i])\n",
    "        \n",
    "test = test.drop(delete_test_features, axis=1)"
   ]
  },
  {
   "cell_type": "code",
   "execution_count": 18,
   "metadata": {
    "collapsed": true
   },
   "outputs": [],
   "source": [
    "# fill in missing values with 0\n",
    "test=test.fillna(0)\n",
    "\n",
    "# predict house prices in test data\n",
    "result = reg.predict(test)\n",
    "#print(result)"
   ]
  },
  {
   "cell_type": "code",
   "execution_count": 270,
   "metadata": {
    "collapsed": true
   },
   "outputs": [],
   "source": [
    "# output predictions to csv for kaggle submission\n",
    "df = pd.DataFrame(data = result)\n",
    "df.to_csv(\"final_prices.csv\", sep=',', encoding='utf-8')"
   ]
  }
 ],
 "metadata": {
  "kernelspec": {
   "display_name": "Python 3",
   "language": "python",
   "name": "python3"
  },
  "language_info": {
   "codemirror_mode": {
    "name": "ipython",
    "version": 3
   },
   "file_extension": ".py",
   "mimetype": "text/x-python",
   "name": "python",
   "nbconvert_exporter": "python",
   "pygments_lexer": "ipython3",
   "version": "3.6.3"
  }
 },
 "nbformat": 4,
 "nbformat_minor": 2
}
